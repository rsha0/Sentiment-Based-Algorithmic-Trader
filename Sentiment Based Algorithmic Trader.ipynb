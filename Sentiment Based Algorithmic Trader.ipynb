{
 "cells": [
  {
   "cell_type": "markdown",
   "id": "461ac0d5",
   "metadata": {},
   "source": [
    "## Using Alpha Vantage API to Retrieve Sentiment Scores"
   ]
  },
  {
   "cell_type": "code",
   "execution_count": 2,
   "id": "7fc5f5d3",
   "metadata": {},
   "outputs": [],
   "source": [
    "import requests\n",
    "\n",
    "def avg_sentiment(symbol,key):\n",
    "    '''\n",
    "    Input -> Ticker symbol and Alpha Vantage API key obtained from Alpha Vantage Site\n",
    "        Obtain news sentiment data from API url and convert data to a json file.\n",
    "        Find 'feed' section in the json file and loop through to find the 'overall_sentiment_score'\n",
    "        associated with each article.\n",
    "        Add these scores to a list and then find the average value in the list.\n",
    "    Return -> Average public sentiment score related to a stock if there exists a news feed relating to said stock.\n",
    "    '''\n",
    "    url = f'https://www.alphavantage.co/query?function=NEWS_SENTIMENT&tickers={symbol}&apikey={key}'\n",
    "    r = requests.get(url)\n",
    "    data = r.json()\n",
    "\n",
    "    sentiment_list=[]\n",
    "    if ('feed' in data):\n",
    "        for article in data['feed']:\n",
    "            new_sentiment=article['overall_sentiment_score']\n",
    "            sentiment_list.append(new_sentiment)\n",
    "        return round(sum(sentiment_list)/len(sentiment_list),4)\n",
    "    else:\n",
    "        return 0"
   ]
  },
  {
   "cell_type": "markdown",
   "id": "46631223",
   "metadata": {},
   "source": [
    "## Find All S&P 500 Tickers"
   ]
  },
  {
   "cell_type": "code",
   "execution_count": 3,
   "id": "8bf243c0",
   "metadata": {},
   "outputs": [],
   "source": [
    "import pandas as pd\n",
    "def get_all_tickers():\n",
    "    '''\n",
    "    Input -> None\n",
    "        Scrape Wikipedia S&P 500 page and convert the stock tickers column into a csv file.\n",
    "    Return -> tickers csv file\n",
    "    '''\n",
    "    table=pd.read_html('https://en.wikipedia.org/wiki/List_of_S%26P_500_companies')\n",
    "    df = table[0]\n",
    "    df.to_csv('S&P500-Info.csv')\n",
    "    df.to_csv(\"S&P500-Symbols.csv\", columns=['Symbol'])\n",
    "    return df['Symbol']"
   ]
  },
  {
   "cell_type": "markdown",
   "id": "70f7fffd",
   "metadata": {},
   "source": [
    "## Find and Sort Tickers by Sentiment Score"
   ]
  },
  {
   "cell_type": "code",
   "execution_count": 4,
   "id": "e93943a5",
   "metadata": {},
   "outputs": [],
   "source": [
    "def sort_stocks_by_sentiment(ticks,num_ticks):\n",
    "    '''\n",
    "    Input -> list of tickers, how many tickers you want to end up with\n",
    "        Create a dictionary with a key named 'Ticker' and a key named 'sentiment_scores'.\n",
    "        Loop through the list of tickers and add the ticker and sentiment score to the dictionary.\n",
    "        Convert the dictionary to a dataframe and then sort the dataframe in descending order,\n",
    "        retrieving the tickers for the top few tickers up to num_ticks.\n",
    "        Convert these obtained results into a list.\n",
    "    Return -> list of tickers\n",
    "    \n",
    "    '''\n",
    "    tick_sent = {'Ticker':[],'sentiment_scores':[]}\n",
    "    \n",
    "    for i in ticks:\n",
    "        tick_sent['Ticker'].append(i)\n",
    "        tick_sent['sentiment_scores'].append(avg_sentiment(i))\n",
    "    ts_df = pd.DataFrame.from_dict(tick_sent)\n",
    "    ts_df = ts_df.sort_values(by=['sentiment_scores'],ascending=False)[:num_ticks]['Ticker'].tolist()\n",
    "    return ts_df"
   ]
  },
  {
   "cell_type": "markdown",
   "id": "c2b5dc60",
   "metadata": {},
   "source": [
    "# Find Best Trading Strategy For Each Ticker"
   ]
  },
  {
   "cell_type": "code",
   "execution_count": 5,
   "id": "4c439b59",
   "metadata": {},
   "outputs": [],
   "source": [
    "#import relevant libraries\n",
    "import yfinance as yf\n",
    "import pandas as pd\n",
    "import numpy as np\n",
    "import matplotlib.pyplot as plt\n",
    "plt.style.use(\"seaborn\")"
   ]
  },
  {
   "cell_type": "markdown",
   "id": "7374a748",
   "metadata": {},
   "source": [
    "## Breakout Strategy"
   ]
  },
  {
   "cell_type": "code",
   "execution_count": 6,
   "id": "3c67f8a6",
   "metadata": {},
   "outputs": [],
   "source": [
    "def breakout(stock, start, end, tolerance, SMA):\n",
    "    '''\n",
    "    Input -> ticker for relevant stock, start date, end date, absolute tolerance level before breaking out, list containing the simple moving averages for short and long intervals.\n",
    "        Retrieve stock data from yfinance and convert Close prices column to a dataframe.\n",
    "        Create a column in the new data frame for returns if strategy is not applied.\n",
    "        Create columns for the simple moving average of the Close prices for both short and long intervals using rolling average function\n",
    "        \n",
    "        Create a position column which tells us to buy a stock when the short run average is above the tolerance threshold for the long run average and to sell when the short run average is smaller.\n",
    "        From this column, create a new column called \"strategy\" which calculates the return under this strategy using the position column.\n",
    "    Return -> Total Returns, Risk and Dataframe of Cumulative Returns\n",
    "    '''\n",
    "    df = yf.download(stock,start=start,end=end)\n",
    "    data=df.Close.to_frame()\n",
    "    data[\"returns\"]=np.log(data.Close.div(data.Close.shift(1))) #Use closing prices in present period for the next period\n",
    "    data[\"SMA_S\"]=data.Close.rolling(int(SMA[0])).mean()\n",
    "    data[\"SMA_L\"]=data.Close.rolling(int(SMA[1])).mean()\n",
    "    data.dropna(inplace=True)\n",
    "    \n",
    "    #Buy when short interval average increases above upper tolerance on long interval average.\n",
    "    #Sell when short interval average decreases below lower tolerance on long interval average.\n",
    "    data[\"position\"]=np.where(data[\"SMA_S\"]>(data[\"SMA_L\"]+tolerance),1,0)\n",
    "    data[\"position\"]=np.where(data[\"SMA_S\"]<(data[\"SMA_L\"]-tolerance),-1,data[\"position\"])\n",
    "    data[\"strategy\"]=data[\"returns\"]*data.position.shift(1) #Needs to shift position forward 1 period since returns come in next period\n",
    "    data.dropna(inplace=True)\n",
    "    \n",
    "    #Data for plotting Later\n",
    "    data[\"returnsstrategy\"]=data[\"strategy\"].cumsum().apply(np.exp)\n",
    "    \n",
    "    ret=np.exp(data[\"strategy\"].sum())\n",
    "    std=data[\"strategy\"].std()*np.sqrt(252)\n",
    "    \n",
    "    return ret, std, data"
   ]
  },
  {
   "cell_type": "markdown",
   "id": "49c8460c",
   "metadata": {},
   "source": [
    "## Long Bias Strategy"
   ]
  },
  {
   "cell_type": "code",
   "execution_count": 7,
   "id": "89f5d52a",
   "metadata": {},
   "outputs": [],
   "source": [
    "def long_bias(stock, start, end, SMA): #(SMA_S,SMA_L)\n",
    "    '''\n",
    "    Input -> ticker for relevant stock, start date, end date, list containing the simple moving averages for short and long intervals.\n",
    "        Retrieve stock data from yfinance and convert Close prices column to a dataframe.\n",
    "        Create a column in the new data frame for returns if strategy is not applied.\n",
    "        Create columns for the simple moving average of the Close prices for both short and long intervals using rolling average function\n",
    "        \n",
    "        Create a position column tells us to buy a stock if the short run average is higher than the long run average and to hold otherwise.\n",
    "        From this column, create a new column called \"strategy\" which calculates the return under this strategy using the position column.\n",
    "    Return -> Total Returns, Risk and Dataframe of Cumulative Returns\n",
    "    '''\n",
    "    df = yf.download(stock,start=start,end=end)\n",
    "    data=df.Close.to_frame()\n",
    "    data[\"returns\"]=np.log(data.Close.div(data.Close.shift(1))) #Use closing prices in present period for the next period\n",
    "    data[\"SMA_S\"]=data.Close.rolling(int(SMA[0])).mean()\n",
    "    data[\"SMA_L\"]=data.Close.rolling(int(SMA[1])).mean()\n",
    "    data.dropna(inplace=True)\n",
    "    \n",
    "    #Buy when doing well in short interval average.\n",
    "    #Hold in all other scenarios.\n",
    "    data[\"position\"]=np.where(data[\"SMA_S\"]>data[\"SMA_L\"],1,0)\n",
    "    data[\"strategy\"]=data[\"returns\"]*data.position.shift(1) #Needs to shift position forward 1 period since returns come in next period\n",
    "    data.dropna(inplace=True)\n",
    "    \n",
    "    #Data for plotting Later\n",
    "    data[\"returnsstrategy\"]=data[\"strategy\"].cumsum().apply(np.exp)\n",
    "    \n",
    "    ret=np.exp(data[\"strategy\"].sum())\n",
    "    std=data[\"strategy\"].std()*np.sqrt(252)\n",
    "    \n",
    "    return ret,std,data"
   ]
  },
  {
   "cell_type": "markdown",
   "id": "fca44427",
   "metadata": {},
   "source": [
    "## Momentum Strategy"
   ]
  },
  {
   "cell_type": "code",
   "execution_count": 8,
   "id": "987bd103",
   "metadata": {},
   "outputs": [],
   "source": [
    "def momentum(stock, start, end, SMA):\n",
    "    '''\n",
    "    Input -> ticker for relevant stock, start date, end date, list containing the simple moving averages for short and long intervals.\n",
    "        Retrieve stock data from yfinance and convert Close prices column to a dataframe.\n",
    "        Create a column in the new data frame for returns if strategy is not applied.\n",
    "        Create columns for the simple moving average of the Close prices for both short and long intervals using rolling average function\n",
    "        \n",
    "        Create a position column tells us to buy a stock if the short run average is higher than the long run average and to sell if the short run average is doing worse.\n",
    "        From this column, create a new column called \"strategy\" which calculates the return under this strategy using the position column.\n",
    "    Return -> Total Returns, Risk and Dataframe of Cumulative Returns\n",
    "    '''\n",
    "    df = yf.download(stock,start=start,end=end)\n",
    "    data=df.Close.to_frame()\n",
    "    data[\"returns\"]=np.log(data.Close.div(data.Close.shift(1))) #Use closing prices in present period for the next period\n",
    "    data[\"SMA_S\"]=data.Close.rolling(int(SMA[0])).mean()\n",
    "    data[\"SMA_L\"]=data.Close.rolling(int(SMA[1])).mean()\n",
    "    data.dropna(inplace=True)\n",
    "    \n",
    "    #Buy when doing better in short interval compared to long interval\n",
    "    #Sell when doing worse in short interval compared to long interval\n",
    "    #Hold when doing the same in both intervals\n",
    "    data[\"position\"]=np.where(data[\"SMA_S\"]>data[\"SMA_L\"],1,0)\n",
    "    data[\"position\"]=np.where(data[\"SMA_S\"]<data[\"SMA_L\"],-1,data[\"position\"])\n",
    "    data[\"strategy\"]=data[\"returns\"]*data.position.shift(1) #Needs to shift position forward 1 period since returns come in next period\n",
    "    data.dropna(inplace=True)\n",
    "    \n",
    "    #Data for plotting Later\n",
    "    data[\"returnsstrategy\"]=data[\"strategy\"].cumsum().apply(np.exp)\n",
    "    \n",
    "    ret=np.exp(data[\"strategy\"].sum())\n",
    "    std=data[\"strategy\"].std()*np.sqrt(252)\n",
    "    \n",
    "    return ret, std, data"
   ]
  },
  {
   "cell_type": "markdown",
   "id": "2af7a5dd",
   "metadata": {},
   "source": [
    "## Plot Graphs For Stock Returns Under Each Strategy"
   ]
  },
  {
   "cell_type": "code",
   "execution_count": 10,
   "id": "d1a27cd8",
   "metadata": {},
   "outputs": [],
   "source": [
    "def plot_data(data1, data2, data3):\n",
    "    '''\n",
    "    Input -> Dataframe of cumulative strategic returns for each strategy, e.g. data1 = long_bias(stock, start, end, SMA)[2]\n",
    "        Plot colour-coded line curves for the cumulative strategic returns for each strategy.\n",
    "    Return -> None\n",
    "    '''\n",
    "    line1=data1[\"returnsstrategy\"].plot(figsize=(12,8),color='g')\n",
    "    line2=data2[\"returnsstrategy\"].plot(figsize=(12,8),color='r')\n",
    "    line3=data3[\"returnsstrategy\"].plot(figsize=(12,8),color='b')\n",
    "    plt.ylabel(\"Return\")\n",
    "    plt.title(\"Returns of All Strategies\")\n",
    "\n",
    "    red_patch = mpatches.Patch(color='red', label='Long Bias Strategy')\n",
    "    green_patch = mpatches.Patch(color='green', label='Break-Out Strategy')\n",
    "    blue_patch = mpatches.Patch(color='blue', label='Momentum Strategy')\n",
    "    plt.legend(handles=[red_patch,blue_patch,green_patch])\n",
    "\n",
    "    plt.show()"
   ]
  },
  {
   "cell_type": "markdown",
   "id": "f5ab65e8",
   "metadata": {},
   "source": [
    "## Create Comparison DataFrame"
   ]
  },
  {
   "cell_type": "code",
   "execution_count": null,
   "id": "aa68c7f2",
   "metadata": {},
   "outputs": [],
   "source": [
    "def compare_strat(data1,data2,data3):\n",
    "    '''\n",
    "    Input -> Dataframe of cumulative strategic returns for each strategy, e.g. data1 = long_bias(stock, start, end, SMA)[2]\n",
    "        Create a dataframe with columns for strategy, return and risk.\n",
    "        Create a dataframe which sorts the previous dataframe by returns (highest to lowest) and obtain the respective strategy.\n",
    "        Create a dataframe which sorts the previous dataframe by risk (lowest to highest) and obtain the respective strategy.\n",
    "    Return -> Strategy with highest return, Strategy with lowest risk\n",
    "    '''\n",
    "    data = [['Long Bias',data1[0],data1[1]], ['Momentum',data2[0], data2[1]], ['Break Out',data3[0], data3[1]]]\n",
    "\n",
    "    # Create the pandas DataFrame\n",
    "    df = pd.DataFrame(data, columns=['Strategy', 'Returns', 'Risk'])\n",
    "    best_return = df.sort_values(by=['Returns'],ascending=False)['Strategy'][0]\n",
    "    lowest_risk = df.sort_values(by=['Risk'])['Strategy'][0]\n",
    "    \n",
    "    return best_return, lowest_risk"
   ]
  }
 ],
 "metadata": {
  "kernelspec": {
   "display_name": "Python 3 (ipykernel)",
   "language": "python",
   "name": "python3"
  },
  "language_info": {
   "codemirror_mode": {
    "name": "ipython",
    "version": 3
   },
   "file_extension": ".py",
   "mimetype": "text/x-python",
   "name": "python",
   "nbconvert_exporter": "python",
   "pygments_lexer": "ipython3",
   "version": "3.9.13"
  }
 },
 "nbformat": 4,
 "nbformat_minor": 5
}
